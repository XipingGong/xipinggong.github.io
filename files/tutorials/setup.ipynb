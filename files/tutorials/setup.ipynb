{
 "cells": [
  {
   "cell_type": "markdown",
   "id": "f7c523d7-3548-48b4-a586-268615e8c1eb",
   "metadata": {},
   "source": [
    "# Setups for your local computer\n",
    "\n",
    "**Author**: Xiping Gong (xipinggong@hotmail.com, Department of Food Science and Technology, College of Agricultural and Environmental Sciences, University of Georgia, Griffin, GA, USA)\n",
    "\n",
    "**Date**: 1/14/2025"
   ]
  },
  {
   "cell_type": "markdown",
   "id": "8dc9e898-2cd5-41e9-a6bb-29a0932194e9",
   "metadata": {},
   "source": [
    "# Introduction\n",
    "\n",
    "This notebook will help you to setup your computer. \n",
    "I am using a Window 10 system, and the following provides a general procedure to have your computer equipped with essential tools.\n",
    "\n",
    "+ **Install a Linux environment in the window system**\n",
    "\n",
    "Window 10 provides the \"Windows Subsystem for Linux (WSL)\", and it allows us to operate both Linux and Windows at the same time. The essential idea is to install an Ubuntu app in the Window system, so that we can use the Ubuntu in the Windows.\n",
    "\n",
    "How to start the Ubuntu in the Windows PowerShell? Open a terminal and type the app installed, like \n",
    "\n",
    "```bash\n",
    "PS C:\\Users\\Xipin> ubuntu.exe\n",
    "```\n",
    "\n",
    "+ **Install the Anaconda**\n",
    "\n",
    "The following includes several important bash commands to install the Anaconda.\n",
    "\n",
    "```bash\n",
    "$ wget https://repo.anaconda.com/archive/Anaconda3-2024.10-1-Linux-x86_64.sh\n",
    "$ chmod +x Anaconda3-2024.10-1-Linux-x86_64.sh\n",
    "$ bash Anaconda3-2024.10-1-Linux-x86_64.sh\n",
    "```\n",
    "\n",
    "It can be better if you use a different prefix location, for example, \"/home/xipinggong/programs/anaconda/anaconda3\"\n",
    "\n",
    "+ **Install the Jupyter notebook**\n",
    "\n",
    "It can be better to use the conda to install.\n",
    "\n",
    "In the future, if you want to install the python packages, then try to use the conda to install.\n",
    "\n",
    "+ **How to run a python script**\n",
    "\n",
    "Given that we installed the anaconda, the Python has been installed in your system, so just type your first Python script,\n",
    "```python\n",
    "# Save the following in a \"test.py\" file\n",
    "print(\">> Welcome to Python! \\n\"\n",
    "      \"This could be your first step in trying Python, and it’s an excellent starting point. \\n\"\n",
    "      \"Remember: Coding can become much easier and more enjoyable with the help of AI tools like ChatGPT.\")\n",
    "```\n",
    "\n",
    "Then, go back to the terminal window, then we just type the following:\n",
    "```bash\n",
    "$ python test.py\n",
    "```\n",
    "The output can be like this:\n",
    "```\n",
    ">> Welcome to Python!\n",
    "This could be your first step in trying Python, and it’s an excellent starting point.\n",
    "Remember: Coding can become much easier and more enjoyable with the help of AI tools like ChatGPT.\n",
    "```"
   ]
  }
 ],
 "metadata": {
  "kernelspec": {
   "display_name": "Python 3 (ipykernel)",
   "language": "python",
   "name": "python3"
  },
  "language_info": {
   "codemirror_mode": {
    "name": "ipython",
    "version": 3
   },
   "file_extension": ".py",
   "mimetype": "text/x-python",
   "name": "python",
   "nbconvert_exporter": "python",
   "pygments_lexer": "ipython3",
   "version": "3.10.14"
  }
 },
 "nbformat": 4,
 "nbformat_minor": 5
}
