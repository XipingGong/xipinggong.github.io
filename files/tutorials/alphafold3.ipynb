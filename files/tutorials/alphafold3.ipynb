{
 "cells": [
  {
   "cell_type": "markdown",
   "id": "bf66db8a-14cb-48cb-80af-db65213b402c",
   "metadata": {},
   "source": [
    "# A note on learning to run AlphaFold 3\n",
    "\n",
    "**Author**: Xiping Gong (xipinggong@hotmail.com, Department of Food Science and Technology, College of Agricultural and Environmental Sciences, University of Georgia, Griffin, GA, USA)\n",
    "\n",
    "**Date**: 01/22/2025\n"
   ]
  },
  {
   "cell_type": "markdown",
   "id": "8a350859-bfb0-4294-89d3-9cd642ce1eb5",
   "metadata": {},
   "source": [
    "# Introduction\n",
    "\n",
    "AlphaFold 2 has renolutionized biomolecular structrue prediction by providing accurate 3D protein structures, which can be effectively used for rapid molecular docking (DOI: https://doi.org/10.1038/s41586-021-03819-2). This year, AlphaFold 3 was launched, extending its capability to accurately model the biomolecule-ligand interactions, likely offering unprecedented precision in studying PFAS binding to critical toxicological targets, such as proteins (DOI: https://doi.org/10.1038/s41586-024-07487-w). It was claimed that its advanced predictive accuracy significantly surpasses that of tranditional molecular docking models (e.g., AutoDock Vina), providing more opportunities in understanding the PFAS-biomolecule binding mechanisms that drive PFAS bioaccumulation and toxicity (DOI: https://doi.org/10.1038/s41586-024-07487-w). The recent release of open-source code in November 2024 (Link: https://github.com/google-deepmind/alphafold3) introduces high-throughput capabilities, making it possible to rapidly screen a wide array of biomolecule-logand interactions. These advancements provide a foundation for generating high-quality structural features on PFAS-biomolecule interaction.\n",
    "\n",
    "This note uses the PFOA-human serum albumin interaction as an example to demonstrate how AlphaFold 3 can be utilized for docking. Additionally, I discuss the docking results and compare them to the outcomes obtained using AutoDock Vina from our previous note.\n",
    "\n",
    "AlphaFold 3: https://github.com/google-deepmind/alphafold3\n"
   ]
  },
  {
   "cell_type": "markdown",
   "id": "cd4828e6-7b3c-4429-b72e-b7553f3bd027",
   "metadata": {},
   "source": [
    "# An example: PFOA - human serum albumin (hSA) protein\n",
    "\n",
    "The goal of this example is to how we can use the AlphaFold 3 to predict the binding of PFOA with the hSA protein. \n",
    "To test it, I integrated all scripts (Python and Bash) together, so that we can automatically screen other potential PFAS molecules.\n"
   ]
  },
  {
   "attachments": {},
   "cell_type": "markdown",
   "id": "dfaec45b-e5d8-428a-89b4-8087afe141a1",
   "metadata": {},
   "source": [
    "## Background\n",
    "\n",
    "**Reference**\n",
    "Maso, Lorenzo, et al. \"Unveiling the binding mode of perfluorooctanoic acid to human serum albumin.\" Protein Science 30.4 (2021): 830-841. DOI: https://doi.org/10.1002/pro.4036\n",
    "\n",
    "![Alt text](https://onlinelibrary.wiley.com/cms/asset/641b2e4e-b7a8-429b-8b78-d9238385a0ab/pro4036-fig-0001-m.jpg)\n",
    "\n",
    "**Figure 1**. Structure of hSA in complex with PFOA and Myr. Chemical structure (top) and composite omit maps depicting the (Fo−Fc) electron density (bottom) of PFOA (a) and Myr (b) contoured at 4σ; (c) Crystal structure of hSA-PFOA-Myr complex (white) obtained using a twofold molar excess of PFOA over Myr [PDB identification code: 7AAI]; (d) Superimposition of hSA-PFOA-Myr ternary complex (white) with aligned hSA-Myr binary complex (blue white) [PDB identification code: 7AAE]. The structure of hSA is organized in homologues domains (I, II and III), subdomains (A and B), fatty acids (FA) and Sudlow's binding sites. The α-helices of hSA are represented by cylinders. Bound PFOA and Myr are shown in a ball-and-stick representation with a semi-transparent van der Waals and colored by atom type (PFOA: carbon = dark salmon, oxygen = firebrick, fluorine = palecyan; Myr: carbon = smudge green, oxygen = firebrick). The electron density PFOA and Myr is shown as grey mesh. (Note: I switched the \"7AAE\" with \"7AAI\" after checking out both structures from the PDB database.)\n"
   ]
  },
  {
   "cell_type": "markdown",
   "id": "4178cf65-a81c-4c12-8403-f64e075e6573",
   "metadata": {},
   "source": [
    "## A general script to run the docking\n",
    "\n",
    "\n",
    "```bash\n",
    "# 1. Prepare the input files: input.json and the parameters file\n",
    "# The parameters file can be requested, and please see the link: https://github.com/google-deepmind/alphafold3\n",
    "# The input file can be found in the Appendix file, and you can also check out the document from here: https://github.com/google-deepmind/alphafold3/blob/main/docs/input.md\n",
    "\n",
    "# 2. Using a bash script to run the job.\n",
    "$ bash sub.sh # Please see the sub.sh script in the Appendix for the details.\n",
    "\n",
    "# 3. Check out the output\n",
    "# Please see the documentation from here: https://github.com/google-deepmind/alphafold3/blob/main/docs/output.md\n",
    "```"
   ]
  },
  {
   "cell_type": "markdown",
   "id": "38435920-32cf-4c33-9d74-90db00ddfa85",
   "metadata": {},
   "source": [
    "## Analysis & Conclusion\n",
    "\n",
    "<img src=\"images/af3_docking_pfoa_hsa.svg\" alt=\"Alt Text\" height=\"500\">\n",
    "\n",
    "**Figure 1** Comparison of PFOA-hSA interaction structures obtained experimentally and through AlphaFold 3 docking.. \n",
    "\n",
    "The results reveal a close alignment between the two methods, with the head group of PFOA showing strong similarity. Notably, no specific binding pocket was predefined in this docking example, indicating that AlphaFold 3 can accurately predict the binding pocket of PFOA in the hSA protein. However, differences are observed in the orientation of the PFOA tail. In conclusion, this docking result relatively surpasses that of AutoDock Vina, where the outcome heavily depends on the predefined docking box (see more details [here](files/tutorials/vina.html)). Combining these two tools could be a powerful strategy: using AlphaFold 3 to predict the binding pocket and then leveraging AutoDock Vina to refine the binding site prediction. This approach can yield PFOA-protein binding predictions that more closely resemble experimental results.\n"
   ]
  },
  {
   "cell_type": "markdown",
   "id": "475d7502-8885-4045-9d04-d453a0b6d4a5",
   "metadata": {},
   "source": [
    "# Appendix"
   ]
  },
  {
   "cell_type": "markdown",
   "id": "5c33757c-bd75-4bb5-bbd6-5fee68d75ca2",
   "metadata": {},
   "source": [
    "## sub.sh"
   ]
  },
  {
   "cell_type": "markdown",
   "id": "80610aa0-9278-477a-864a-a1fa4582686b",
   "metadata": {},
   "source": [
    "```bash\n",
    "#!/bin/bash\n",
    "#SBATCH --job-name=af3                          #Name your job something original\n",
    "#SBATCH --partition=gpu_p                       #Use the GPU partition\n",
    "#SBATCH --ntasks=1\n",
    "#SBATCH --cpus-per-task=32                      #If you use the default options, AlphaFold3 will run four simutaneous Jackhmmer processes with 8 CPUs each\n",
    "#SBATCH --gres=gpu:1                            #If you don’t care whether your job uses an A100 node or an H100 node (and there isn’t much difference in run time)…\n",
    "#SBATCH --constraint=Milan|SapphireRapids       #…this is the easiest way to specify either one without accidentally using a P100 or L4, which lack sufficient device memory\n",
    "#SBATCH --mem=60gb\n",
    "#SBATCH --time=120:00:00\n",
    "#SBATCH --output=x_%x.%j.out\n",
    "#SBATCH --error=x_%x.%j.err\n",
    "\n",
    "SECONDS=0  # Reset the timer\n",
    "\n",
    "cd $SLURM_SUBMIT_DIR\n",
    "af3_param_dir='/xx/alphafold3' # the directory to include the AlphaFold 3 model parameters file, which can be \"af3.bin\".\n",
    "work_dir='/xx/alphafold3' # the directory to have all input files, including \"input.json\" and \"sub.sh\".\n",
    "\n",
    "# unnecessary to change unless you know what you are doing\n",
    "singularity exec \\\n",
    "     --nv \\\n",
    "     --bind $work_dir:/root/af_input \\\n",
    "     --bind $work_dir:/root/af_output \\\n",
    "     --bind $af3_param_dir:/root/models \\\n",
    "     --bind /db/AlphaFold3/20241114:/root/public_databases \\\n",
    "     /apps/singularity-images/alphafold-3.0.0-CCDpatched.sif \\\n",
    "     python /app/alphafold/run_alphafold.py \\\n",
    "     --json_path=/root/af_input/input.json \\\n",
    "     --model_dir=/root/models \\\n",
    "     --db_dir=/root/public_databases \\\n",
    "     --output_dir=/root/af_output\n",
    "\n",
    "echo \"# Elapsed time: $SECONDS seconds\"\n",
    "\n",
    "```"
   ]
  },
  {
   "cell_type": "markdown",
   "id": "84705e59-8f39-43ff-a20c-5f629aa32ee0",
   "metadata": {},
   "source": [
    "## input.json"
   ]
  },
  {
   "cell_type": "markdown",
   "id": "369de531-73a4-4027-8ec8-335dd1e1e21b",
   "metadata": {},
   "source": [
    "```json\n",
    "{\n",
    "  \"name\": \"pfoa_hsa\",\n",
    "  \"sequences\": [\n",
    "    {\n",
    "    \"protein\": {\n",
    "        \"id\": \"A\",\n",
    "        \"sequence\": \"AHKSEVAHRFKDLGEENFKALVLIAFAQYLQQCPFEDHVKLVNEVTEFAKTCVADESAENCDKSLHTLFGDKLCTVATLRETYGEMADCCAKQEPERNECFLQHKDDNPNLPRLVRPEVDVMCTAFHDNEETFLKKYLYEIARRHPYFYAPELLFFAKRYKAAFTECCQAADKAACLLPKLDELRDEGKASSAKQRLKCASLQKFGERAFKAWAVARLSQRFPKAEFAEVSKLVTDLTKVHTECCHGDLLECADDRADLAKYICENQDSISSKLKECCEKPLLEKSHCIAEVENDEMPADLPSLAADFVESKDVCKNYAEAKDVFLGMFLYEYARRHPDYSVVLLLRLAKTYETTLEKCCAAADPHECYAKVFDEFKPLVEEPQNLIKQNCELFEQLGEYKFQNALLVRYTKKVPQVSTPTLVEVSRNLGKVGSKCCKHPEAKRMPCAEDYLSVVLNQLCVLHEKTPVSDRVTKCCTESLVNRRPCFSALEVDETYVPKEFNAETFTFHADICTLSEKERQIKKQTALVELVKHKPKATKEQLKAVMDDFAAFVEKCCKADDKETCFAEEGKKLVAASQAALGL\"\n",
    "      }\n",
    "    },\n",
    "    {\n",
    "     \"ligand\": {\n",
    "        \"id\": \"B\",\n",
    "        \"smiles\": \"C(C(C(C(C(C(C(F)(F)F)(F)F)(F)F)(F)F)(F)F)(F)F)(=O)[O-]\"\n",
    "      }\n",
    "    }\n",
    "  ],\n",
    "  \"modelSeeds\": [1],\n",
    "  \"bondedAtomPairs\": [],\n",
    "  \"dialect\": \"alphafold3\",\n",
    "  \"version\": 2\n",
    "}\n",
    "```"
   ]
  },
  {
   "cell_type": "markdown",
   "id": "53370913-58ab-4489-a819-6a682747de42",
   "metadata": {},
   "source": [
    "## What does the output directory contain?\n",
    "\n",
    "```bash\n",
    "├── TERMS_OF_USE.md\n",
    "├── pfoa_hsa_confidences.json\n",
    "├── pfoa_hsa_data.json\n",
    "├── pfoa_hsa_model.cif\n",
    "├── pfoa_hsa_summary_confidences.json\n",
    "├── ranking_scores.csv\n",
    "├── seed-1_sample-0\n",
    "│   ├── confidences.json\n",
    "│   ├── model.cif\n",
    "│   └── summary_confidences.json\n",
    "├── seed-1_sample-1\n",
    "│   ├── confidences.json\n",
    "│   ├── model.cif\n",
    "│   └── summary_confidences.json\n",
    "├── seed-1_sample-2\n",
    "│   ├── confidences.json\n",
    "│   ├── model.cif\n",
    "│   └── summary_confidences.json\n",
    "├── seed-1_sample-3\n",
    "│   ├── confidences.json\n",
    "│   ├── model.cif\n",
    "│   └── summary_confidences.json\n",
    "└── seed-1_sample-4\n",
    "    ├── confidences.json\n",
    "    ├── model.cif\n",
    "    └── summary_confidences.json\n",
    "\n",
    "# please check out the documentation for the details: https://github.com/google-deepmind/alphafold3/blob/main/docs/output.md \n",
    "```"
   ]
  },
  {
   "cell_type": "markdown",
   "id": "370e19f3-2ba8-4bd7-adcb-a45f4b1a62a9",
   "metadata": {},
   "source": [
    "## Additional documentation?\n",
    "\n",
    "Please also check out the documentation from here: https://wiki.gacrc.uga.edu/wiki/AlphaFold3-Sapelo2 "
   ]
  }
 ],
 "metadata": {
  "kernelspec": {
   "display_name": "Python 3 (ipykernel)",
   "language": "python",
   "name": "python3"
  },
  "language_info": {
   "codemirror_mode": {
    "name": "ipython",
    "version": 3
   },
   "file_extension": ".py",
   "mimetype": "text/x-python",
   "name": "python",
   "nbconvert_exporter": "python",
   "pygments_lexer": "ipython3",
   "version": "3.10.14"
  }
 },
 "nbformat": 4,
 "nbformat_minor": 5
}
